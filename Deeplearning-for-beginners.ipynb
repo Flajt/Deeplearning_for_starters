{
 "cells": [
  {
   "cell_type": "markdown",
   "metadata": {},
   "source": [
    "# Deeplearning for beginners\n"
   ]
  },
  {
   "cell_type": "markdown",
   "metadata": {},
   "source": [
    "Hi, with this notebook I will getting you started with Deeplearning in Python3.\n",
    "We will build our own neuronal net from scratch and learn how to use tflearn. Also we want to\n",
    "cover diffrent types of neuronal nets and more. The structure you can find at the end of the file.\n",
    "########################################################################################\n",
    "If you find spelling/writing mistakes please report them to me so I can fix them.\n",
    "## Note: it's possible that these will not work when you read it because of new updates!\n",
    "########################################################################################"
   ]
  },
  {
   "cell_type": "markdown",
   "metadata": {},
   "source": [
    "# Usage of machine/deeplearning\n",
    "So as you may know machine learning is implemented in our everyday life, so you have propably used it at least once.\n",
    "You use it in photo editing, in apps(Snapchat's filters for example, that makes you look like a dog or whatever else), in your Google search (the recommendations that google is showing you) or in advertisment (like Amazon:\"The people who bought this product also bought...\"). So as you see Machine Learning is everywere and why don't use it aswell. Or in image classification (this is a dog and this and this not...) and more. "
   ]
  },
  {
   "cell_type": "markdown",
   "metadata": {},
   "source": [
    "# The general idea\n",
    "So the examples above sounds nice but how do they work...\n",
    "Let's find it out:\n",
    "So as we humans often do, we looked around in nature and find\n",
    "a powerfull \"device\" to work with data. It's called \"Brain\"; so the brain is learning\n",
    "by exprience. In detail our brain is working with neurons (so were do you think the name: \"Neuronal Network\" is from?), a neuron is a nerv that taking an input and returning an output if a certain point is reached (the neuron is \"fireing\"). So for example if we see a dog our eyes send the image via an electronic signal to the brain. There these image will be inputed into a neuron, this is connected with several other ones, so the neuron can see a dog with 95% probability, an cat with 2% probability and a wolf with 3% probability. So it sends these output to another neurons with a nerve called \"synapse\" if a neuron is using one synapes more then others these will became stronger. The other neurons are getting the image pluse the probability of the neuron from before"
   ]
  }
 ],
 "metadata": {
  "kernelspec": {
   "display_name": "Python 3",
   "language": "python",
   "name": "python3"
  },
  "language_info": {
   "codemirror_mode": {
    "name": "ipython",
    "version": 3
   },
   "file_extension": ".py",
   "mimetype": "text/x-python",
   "name": "python",
   "nbconvert_exporter": "python",
   "pygments_lexer": "ipython3",
   "version": "3.6.1"
  }
 },
 "nbformat": 4,
 "nbformat_minor": 2
}
