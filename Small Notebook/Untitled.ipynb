{
 "cells": [
  {
   "cell_type": "markdown",
   "metadata": {},
   "source": [
    "# AI, ML, Neural Networks\n",
    "\n",
    "\n",
    "## Structure\n",
    "\n",
    "- AI?\n",
    "- ML?\n",
    "- Neural Network?\n",
    "- History of ML/Neural Networks\n",
    "- Perceptron\n",
    "- Types of Nets\n",
    "    - CNN\n",
    "    - Feedforward\n",
    "    - Recursiv\n",
    "    -\n",
    "- Activation functions and their use case"
   ]
  },
  {
   "cell_type": "markdown",
   "metadata": {},
   "source": [
    "### AI?\n",
    "\n",
    "AI, the name stands for `Artificial Inteligence`. If you think of AI you will propebly think of images like this:\n"
   ]
  }
 ],
 "metadata": {
  "kernelspec": {
   "display_name": "Python 3",
   "language": "python",
   "name": "python3"
  },
  "language_info": {
   "codemirror_mode": {
    "name": "ipython",
    "version": 3
   },
   "file_extension": ".py",
   "mimetype": "text/x-python",
   "name": "python",
   "nbconvert_exporter": "python",
   "pygments_lexer": "ipython3",
   "version": "3.6.4"
  }
 },
 "nbformat": 4,
 "nbformat_minor": 2
}
